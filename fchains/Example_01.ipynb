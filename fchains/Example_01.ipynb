{
 "cells": [
  {
   "cell_type": "markdown",
   "metadata": {},
   "source": [
    "# DataFrame: Functional Chains for [TTrees](https://root.cern.ch/doc/master/classTTree.html) in Python.\n",
    "<hr style=\"border-top-width: 4px; border-top-color: #359C38;\">\n",
    "The DataFrame class brings the feature called functional chains with caching to trees. This is achieved in identifying different functions are creating lists of transformations. \n",
    "Usability is a key. Functional chains are a lot simpler way of creating histograms because the user doesn't need to create loops. DataFrame will do it for you."
   ]
  },
  {
   "cell_type": "markdown",
   "metadata": {},
   "source": [
    "## Preparation\n",
    "We include ROOT, DataFrame and PyTreeReader class. DataFrame uses PyTreeReader for filling histograms and filtering results. All of the computing is mostly done by using PyTreeReader inside the DataFrame Class. Clearly this will be done in a better way now that the usage of PyTreeReader in ROOT is still unknown. PyTreeReader can be found from https://github.com/dpiparo/pytreereader"
   ]
  },
  {
   "cell_type": "code",
   "execution_count": 1,
   "metadata": {
    "collapsed": false
   },
   "outputs": [
    {
     "data": {
      "application/javascript": [
       "\n",
       "require(['notebook'],\n",
       "  function() {\n",
       "    IPython.CodeCell.config_defaults.highlight_modes['magic_text/x-c++src'] = {'reg':[/^%%cpp/]};\n",
       "    console.log(\"JupyROOT - %%cpp magic configured\");\n",
       "  }\n",
       ");\n"
      ]
     },
     "metadata": {},
     "output_type": "display_data"
    },
    {
     "name": "stdout",
     "output_type": "stream",
     "text": [
      "Welcome to JupyROOT 6.07/07\n"
     ]
    }
   ],
   "source": [
    "import ROOT\n",
    "from PyTreeReader import PyTreeReader\n",
    "from fchains import DataFrame\n",
    "from ROOT import TFile"
   ]
  },
  {
   "cell_type": "markdown",
   "metadata": {},
   "source": [
    "This is to create a tree from test data called cernstaff.root"
   ]
  },
  {
   "cell_type": "code",
   "execution_count": 2,
   "metadata": {
    "collapsed": false
   },
   "outputs": [],
   "source": [
    "testFile = TFile('cernstaff.root')\n",
    "testTree = testFile.Get('T')"
   ]
  },
  {
   "cell_type": "markdown",
   "metadata": {},
   "source": [
    "Here we create the DataFrame object"
   ]
  },
  {
   "cell_type": "code",
   "execution_count": 3,
   "metadata": {
    "collapsed": false
   },
   "outputs": [
    {
     "name": "stdout",
     "output_type": "stream",
     "text": [
      "Creating the PyTreeReader\n"
     ]
    }
   ],
   "source": [
    "dataFrame = DataFrame(testTree)"
   ]
  },
  {
   "cell_type": "markdown",
   "metadata": {},
   "source": [
    "As you can see, it also creates a PyTreeReader. This is why PyTreeReader is mandatory for the class"
   ]
  },
  {
   "cell_type": "markdown",
   "metadata": {},
   "source": [
    "## Traditional read without cache"
   ]
  },
  {
   "cell_type": "code",
   "execution_count": 4,
   "metadata": {
    "collapsed": false
   },
   "outputs": [
    {
     "data": {
      "text/markdown": [
       "|Category|Flag|Age|Service|Children|Grade|Step|Hrweek|Cost|Division|Nation|\n",
       "|---|---|---|---|---|---|---|---|---|---|---|\n",
       "|202|15|58|28|0|10|13|40|11975|P|D|\n",
       "|530|15|63|33|0|9|13|40|10228|E|C|\n",
       "|316|15|56|31|2|9|13|40|10730|P|F|\n",
       "|361|15|61|35|0|9|7|40|9311|P|F|\n",
       "|302|15|52|24|2|9|8|40|9966|P|D|\n"
      ],
      "text/plain": [
       "<IPython.core.display.Markdown object>"
      ]
     },
     "metadata": {},
     "output_type": "display_data"
    },
    {
     "name": "stdout",
     "output_type": "stream",
     "text": [
      "CPU times: user 107 ms, sys: 21.8 ms, total: 129 ms\n",
      "Wall time: 126 ms\n"
     ]
    }
   ],
   "source": [
    "%%time\n",
    "dataFrame.filter(lambda e : e.Age() > 20).filter(lambda e : e.Children > 1).head(5)"
   ]
  },
  {
   "cell_type": "markdown",
   "metadata": {},
   "source": [
    "# Same but now first caching it and then rerunning the same"
   ]
  },
  {
   "cell_type": "code",
   "execution_count": 5,
   "metadata": {
    "collapsed": false
   },
   "outputs": [
    {
     "data": {
      "text/markdown": [
       "|Category|Flag|Age|Service|Children|Grade|Step|Hrweek|Cost|Division|Nation|\n",
       "|---|---|---|---|---|---|---|---|---|---|---|\n",
       "|530|15|63|33|0|9|13|40|10228|E|C|\n",
       "|316|15|56|31|2|9|13|40|10730|P|F|\n",
       "|361|15|61|35|0|9|7|40|9311|P|F|\n",
       "|302|15|52|24|2|9|8|40|9966|P|D|\n",
       "|303|15|60|33|0|7|13|40|7599|P|I|\n"
      ],
      "text/plain": [
       "<IPython.core.display.Markdown object>"
      ]
     },
     "metadata": {},
     "output_type": "display_data"
    },
    {
     "name": "stdout",
     "output_type": "stream",
     "text": [
      "<function <lambda> at 0x7f7c24099de8>\n",
      "NOT cached FILTER\n",
      "<function <lambda> at 0x7f7c24099e60>\n",
      "NOT cached FILTER\n",
      "new cache = True\n",
      "[<function <lambda> at 0x7f7c24099de8>, <function <lambda> at 0x7f7c24099e60>]\n",
      "CPU times: user 48.7 ms, sys: 15.5 ms, total: 64.2 ms\n",
      "Wall time: 68.5 ms\n"
     ]
    }
   ],
   "source": [
    "%%time\n",
    "dataFrame.filter(lambda e : e.Age() > 20).filter(lambda e : e.Children > 1).cache().head(5)"
   ]
  },
  {
   "cell_type": "markdown",
   "metadata": {},
   "source": [
    "# Now rerunning it and using the cached results to print"
   ]
  },
  {
   "cell_type": "code",
   "execution_count": 6,
   "metadata": {
    "collapsed": false
   },
   "outputs": [
    {
     "data": {
      "text/markdown": [
       "|Category|Flag|Age|Service|Children|Grade|Step|Hrweek|Cost|Division|Nation|\n",
       "|---|---|---|---|---|---|---|---|---|---|---|\n",
       "|302|15|53|25|1|9|9|40|9868|S|C|\n",
       "|361|15|60|32|1|8|5|40|8012|P|I|\n",
       "|340|15|51|28|0|8|13|40|8813|P|D|\n",
       "|361|15|56|32|1|7|13|40|7850|P|F|\n",
       "|361|15|51|29|0|7|13|40|7599|P|F|\n"
      ],
      "text/plain": [
       "<IPython.core.display.Markdown object>"
      ]
     },
     "metadata": {},
     "output_type": "display_data"
    },
    {
     "name": "stdout",
     "output_type": "stream",
     "text": [
      "<function <lambda> at 0x7f7c2ee8e398>\n",
      "Cached FILTER\n",
      "<function <lambda> at 0x7f7c289bc230>\n",
      "Cached FILTER\n",
      "new cache = False\n",
      "CPU times: user 1.68 ms, sys: 1.41 ms, total: 3.09 ms\n",
      "Wall time: 3.43 ms\n"
     ]
    }
   ],
   "source": [
    "%%time\n",
    "dataFrame.filter(lambda e : e.Age() > 20).filter(lambda e : e.Children > 1).cache().head(5)"
   ]
  },
  {
   "cell_type": "markdown",
   "metadata": {},
   "source": [
    "There is some caching with the files in the Swan service, but the point is that first and second run differ alot with their speed"
   ]
  },
  {
   "cell_type": "markdown",
   "metadata": {},
   "source": [
    "# Lets reset the cache by calling a function from the class"
   ]
  },
  {
   "cell_type": "code",
   "execution_count": 7,
   "metadata": {
    "collapsed": false
   },
   "outputs": [
    {
     "data": {
      "text/plain": [
       "<fchains.DataFrame.DataFrame at 0x7f7c141a2ed0>"
      ]
     },
     "execution_count": 7,
     "metadata": {},
     "output_type": "execute_result"
    }
   ],
   "source": [
    "dataFrame.resetcache()"
   ]
  },
  {
   "cell_type": "markdown",
   "metadata": {},
   "source": [
    "# Now we can demonstrate different histograms and drawing them"
   ]
  },
  {
   "cell_type": "code",
   "execution_count": 8,
   "metadata": {
    "collapsed": false
   },
   "outputs": [
    {
     "name": "stdout",
     "output_type": "stream",
     "text": [
      "<function <lambda> at 0x7f7c24099de8>\n",
      "NOT cached FILTER\n",
      "new cache = True\n",
      "[<function <lambda> at 0x7f7c24099de8>]\n",
      "CPU times: user 100 ms, sys: 21.2 ms, total: 121 ms\n",
      "Wall time: 126 ms\n"
     ]
    },
    {
     "name": "stderr",
     "output_type": "stream",
     "text": [
      "Info in <TCanvas::MakeDefCanvas>:  created default TCanvas with name c1\n"
     ]
    },
    {
     "data": {
      "image/png": "[encoded data removed]",
      "text/plain": [
       "<IPython.core.display.Image object>"
      ]
     },
     "metadata": {},
     "output_type": "display_data"
    }
   ],
   "source": [
    "%%time\n",
    "dataFrame.filter(lambda e : e.Age() > 45).cache().histo('Age:Cost').Draw('COLZ')\n",
    "ROOT.gPad.Draw()"
   ]
  },
  {
   "cell_type": "markdown",
   "metadata": {},
   "source": [
    "Rerun the same analysis, compare the time"
   ]
  },
  {
   "cell_type": "code",
   "execution_count": 9,
   "metadata": {
    "collapsed": false
   },
   "outputs": [
    {
     "name": "stdout",
     "output_type": "stream",
     "text": [
      "<function <lambda> at 0x7f7c2ee8e398>\n",
      "Cached FILTER\n",
      "new cache = False\n",
      "CPU times: user 24.5 ms, sys: 4.48 ms, total: 29 ms\n",
      "Wall time: 25.1 ms\n"
     ]
    },
    {
     "name": "stderr",
     "output_type": "stream",
     "text": [
      "Warning in <TFile::Append>: Replacing existing TH1: h (Potential memory leak).\n"
     ]
    },
    {
     "data": {
      "image/png": "[encoded data removed]",
      "text/plain": [
       "<IPython.core.display.Image object>"
      ]
     },
     "metadata": {},
     "output_type": "display_data"
    }
   ],
   "source": [
    "%%time\n",
    "dataFrame.filter(lambda e : e.Age() > 45).cache().histo('Age:Cost').Draw('COLZ')\n",
    "ROOT.gPad.Draw()"
   ]
  },
  {
   "cell_type": "markdown",
   "metadata": {},
   "source": [
    "Lets add one more filter after the cache and see how it differs..."
   ]
  },
  {
   "cell_type": "code",
   "execution_count": 10,
   "metadata": {
    "collapsed": false
   },
   "outputs": [
    {
     "name": "stdout",
     "output_type": "stream",
     "text": [
      "<function <lambda> at 0x7f7c14179aa0>\n",
      "Cached FILTER\n",
      "new cache = False\n",
      "CPU times: user 21.4 ms, sys: 9.25 ms, total: 30.7 ms\n",
      "Wall time: 26.1 ms\n"
     ]
    },
    {
     "name": "stderr",
     "output_type": "stream",
     "text": [
      "Warning in <TFile::Append>: Replacing existing TH1: h (Potential memory leak).\n"
     ]
    },
    {
     "data": {
      "image/png": "[encoded data removed]",
      "text/plain": [
       "<IPython.core.display.Image object>"
      ]
     },
     "metadata": {},
     "output_type": "display_data"
    }
   ],
   "source": [
    "%%time\n",
    "dataFrame.filter(lambda e : e.Age() > 45).cache().filter(lambda e: e.Cost() > 8500).histo('Age:Cost').Draw('COLZ')\n",
    "ROOT.gPad.Draw()"
   ]
  },
  {
   "cell_type": "markdown",
   "metadata": {},
   "source": [
    "## What can be done more?\n",
    "This is the first implementation of the class and functional chains.\n",
    "\n",
    "Usability can be improved with adding more and more transformations and actions to \n",
    "\n",
    "A lot can be achieved with seizable performance improvements with using the PyTreeReader.\n",
    "\n",
    "However, there are some minor flaws in the class:\n",
    " - Reading more complex trees might need a different approach\n",
    " - If PyTreeReader is changed not to use brackets to handle the entries, this program crashes\n",
    " - Map() and FlatMap() functions have a skeleton ready, but it has to be figured out how and where new tree should be read to the PyTreeReader\n",
    " - TEntryList usage can be optimized more\n",
    " - This uses the RDD idea, so it uses the functions one by one, if there are 3 filters in a row it could run all these at the same time -> this way it doesnt have to go through the loop seperately for each of them.\n",
    " - Transformations after cache() are not working properly if there is more than 1 of them.\n",
    " - This Class is in Python and it should be converted to C++ when its possible"
   ]
  },
  {
   "cell_type": "markdown",
   "metadata": {},
   "source": [
    "# Remember that this is a prototype, it will need optimizing and improvements"
   ]
  },
  {
   "cell_type": "code",
   "execution_count": null,
   "metadata": {
    "collapsed": true
   },
   "outputs": [],
   "source": []
  }
 ],
 "metadata": {
  "kernelspec": {
   "display_name": "Python 2",
   "language": "python",
   "name": "python2"
  },
  "language_info": {
   "codemirror_mode": {
    "name": "ipython",
    "version": 2
   },
   "file_extension": ".py",
   "mimetype": "text/x-python",
   "name": "python",
   "nbconvert_exporter": "python",
   "pygments_lexer": "ipython2",
   "version": "2.7.10"
  }
 },
 "nbformat": 4,
 "nbformat_minor": 0
}
